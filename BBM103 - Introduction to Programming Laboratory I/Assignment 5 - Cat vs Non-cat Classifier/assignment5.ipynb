{
 "cells": [
  {
   "cell_type": "markdown",
   "metadata": {},
   "source": [
    "## Packages"
   ]
  },
  {
   "cell_type": "code",
   "execution_count": 1,
   "metadata": {},
   "outputs": [],
   "source": [
    "import time\n",
    "import numpy as np\n",
    "import h5py\n",
    "import matplotlib.pyplot as plt\n",
    "import scipy\n",
    "from PIL import Image\n",
    "from scipy import ndimage\n",
    "\n",
    "%matplotlib inline\n",
    "plt.rcParams['figure.figsize'] = (5.0, 4.0) # set default size of plots\n",
    "plt.rcParams['image.interpolation'] = 'nearest'\n",
    "plt.rcParams['image.cmap'] = 'gray'\n",
    "\n",
    "%load_ext autoreload\n",
    "%autoreload 2\n",
    "\n",
    "np.random.seed(1)"
   ]
  },
  {
   "cell_type": "code",
   "execution_count": 2,
   "metadata": {},
   "outputs": [],
   "source": [
    "def load_data(path):\n",
    "    train_dataset = h5py.File(path+'/train_catvnoncat.h5', \"r\")\n",
    "    train_set_x_orig = np.array(train_dataset[\"train_set_x\"][:]) # your train set features\n",
    "    train_set_y_orig = np.array(train_dataset[\"train_set_y\"][:]) # your train set labels\n",
    "\n",
    "    test_dataset = h5py.File(path+'/test_catvnoncat.h5', \"r\")\n",
    "    test_set_x_orig = np.array(test_dataset[\"test_set_x\"][:]) # your test set features\n",
    "    test_set_y_orig = np.array(test_dataset[\"test_set_y\"][:]) # your test set labels\n",
    "\n",
    "    classes = np.array(test_dataset[\"list_classes\"][:]) # the list of classes\n",
    "    \n",
    "    train_set_y_orig = train_set_y_orig.reshape((1, train_set_y_orig.shape[0]))\n",
    "    test_set_y_orig = test_set_y_orig.reshape((1, test_set_y_orig.shape[0]))\n",
    "    \n",
    "    return train_set_x_orig, train_set_y_orig, test_set_x_orig, test_set_y_orig, classes"
   ]
  },
  {
   "cell_type": "markdown",
   "metadata": {},
   "source": [
    "## Dataset\n",
    "\n",
    "To be familiar with the dataset, load the data by running the cell below."
   ]
  },
  {
   "cell_type": "code",
   "execution_count": 3,
   "metadata": {},
   "outputs": [],
   "source": [
    "train_x_orig, train_y, test_x_orig, test_y, classes = load_data('C:/Users/User/Desktop/dataset') # you need to change your dataset path"
   ]
  },
  {
   "cell_type": "markdown",
   "metadata": {},
   "source": [
    "The following code will show you an image in the dataset. Feel free to change the index and re-run the cell multiple times to see other images. "
   ]
  },
  {
   "cell_type": "code",
   "execution_count": 4,
   "metadata": {},
   "outputs": [
    {
     "name": "stdout",
     "output_type": "stream",
     "text": [
      "y = 0. It's a non-cat picture.\n"
     ]
    },
    {
     "data": {
      "image/png": "[encoded data removed]",
      "text/plain": [
       "<Figure size 360x288 with 1 Axes>"
      ]
     },
     "metadata": {
      "needs_background": "light"
     },
     "output_type": "display_data"
    }
   ],
   "source": [
    "# Example of a picture\n",
    "index = 208\n",
    "plt.imshow(train_x_orig[index])\n",
    "print (\"y = \" + str(train_y[0,index]) + \". It's a \" + classes[train_y[0,index]].decode(\"utf-8\") +  \" picture.\")"
   ]
  },
  {
   "cell_type": "code",
   "execution_count": 5,
   "metadata": {},
   "outputs": [
    {
     "name": "stdout",
     "output_type": "stream",
     "text": [
      "Number of training examples: 209\n",
      "Number of testing examples: 50\n",
      "Each image is of size: (64, 64, 3)\n",
      "train_x_orig shape: (209, 64, 64, 3)\n",
      "train_y shape: (1, 209)\n",
      "test_x_orig shape: (50, 64, 64, 3)\n",
      "test_y shape: (1, 50)\n"
     ]
    }
   ],
   "source": [
    "# Explore your dataset \n",
    "m_train = train_x_orig.shape[0]\n",
    "num_px = train_x_orig.shape[1]\n",
    "m_test = test_x_orig.shape[0]\n",
    "\n",
    "print (\"Number of training examples: \" + str(m_train))\n",
    "print (\"Number of testing examples: \" + str(m_test))\n",
    "print (\"Each image is of size: (\" + str(num_px) + \", \" + str(num_px) + \", 3)\")\n",
    "print (\"train_x_orig shape: \" + str(train_x_orig.shape))\n",
    "print (\"train_y shape: \" + str(train_y.shape))\n",
    "print (\"test_x_orig shape: \" + str(test_x_orig.shape))\n",
    "print (\"test_y shape: \" + str(test_y.shape))"
   ]
  },
  {
   "cell_type": "code",
   "execution_count": 6,
   "metadata": {},
   "outputs": [
    {
     "name": "stdout",
     "output_type": "stream",
     "text": [
      "train_x's shape: (12288, 209)\n",
      "test_x's shape: (12288, 50)\n"
     ]
    }
   ],
   "source": [
    "# Reshape the training and test examples \n",
    "train_x_flatten = train_x_orig.reshape(train_x_orig.shape[0], -1).T   # The \"-1\" makes reshape flatten the remaining dimensions\n",
    "test_x_flatten = test_x_orig.reshape(test_x_orig.shape[0], -1).T\n",
    "\n",
    "# Standardize data to have feature values between 0 and 1.\n",
    "train_x = train_x_flatten/255.\n",
    "test_x = test_x_flatten/255.\n",
    "\n",
    "print (\"train_x's shape: \" + str(train_x.shape))\n",
    "print (\"test_x's shape: \" + str(test_x.shape))"
   ]
  },
  {
   "cell_type": "code",
   "execution_count": 7,
   "metadata": {},
   "outputs": [],
   "source": [
    "### CONSTANTS DEFINING THE MODEL ####\n",
    "n_x = 12288     # num_px * num_px * 3\n",
    "n_h = 7\n",
    "n_y = 1\n",
    "layers_dims = (n_x, n_h, n_y)"
   ]
  },
  {
   "cell_type": "code",
   "execution_count": 8,
   "metadata": {},
   "outputs": [],
   "source": [
    "# Activation Functions\n",
    "\n",
    "def relu(Z): # RELU function\n",
    "    r = np.maximum(0, Z)\n",
    "    return r\n",
    "\n",
    "def relu_derivative(Z): # Derivative of RELU function\n",
    "    return Z > 0\n",
    "\n",
    "def sigmoid(Z): # Sigmoid function\n",
    "    s = 1/(1+np.exp(-Z))\n",
    "    return s"
   ]
  },
  {
   "cell_type": "code",
   "execution_count": 9,
   "metadata": {},
   "outputs": [],
   "source": [
    "def initialize_parameters_deep(layer_dims):\n",
    "    \"\"\"\n",
    "    Arguments:\n",
    "    layer_dims -- python array (list) containing the dimensions of each layer in our network\n",
    "    \n",
    "    Returns:\n",
    "    parameters -- python dictionary containing your parameters \"W1\", \"b1\",\"W2\", \"b2\":\n",
    "    \"\"\"\n",
    "    \n",
    "    np.random.seed(1)\n",
    "    parameters = {}\n",
    "    \n",
    "    # Initialize W1, b1, W2, b2 parameters randomly\n",
    "    parameters[\"W1\"] = np.random.randn(layer_dims[1], layer_dims[0]) * 0.01\n",
    "    parameters[\"b1\"] = np.random.randn(layer_dims[1], 1) * 0.01\n",
    "    parameters[\"W2\"] = np.random.randn(layer_dims[2], layer_dims[1]) * 0.01\n",
    "    parameters[\"b2\"] = np.random.randn(layer_dims[2], 1) * 0.01\n",
    "    \n",
    "    return parameters"
   ]
  },
  {
   "cell_type": "code",
   "execution_count": 10,
   "metadata": {},
   "outputs": [],
   "source": [
    "def linear_activation_forward(X, parameters):\n",
    "    \"\"\"\n",
    "    Implement the forward propagation\n",
    "\n",
    "    Arguments:\n",
    "    X -- input data:\n",
    "    parameters -- python dictionary containing your parameters \"W1\", \"b1\",\"W2\", \"b2\":\n",
    "\n",
    "    Returns:\n",
    "    AL -- output of the forward propogation\n",
    "    \"\"\"\n",
    "    \n",
    "    # Get W1, b1, W2, b2 from parameters dictionary\n",
    "    W1 = parameters[\"W1\"]\n",
    "    b1 = parameters[\"b1\"]\n",
    "    W2 = parameters[\"W2\"]\n",
    "    b2 = parameters[\"b2\"]\n",
    "    \n",
    "    # Calculate Z1 = W1*X + b1, apply relu function to Z1 = A; Z2 = W2*A + b2, apply sigmoid function to Z2 = AL\n",
    "    Z1 = np.dot(W1, X) + b1\n",
    "    A = relu(Z1)\n",
    "    Z2 = np.dot(W2, A) + b2\n",
    "    AL = sigmoid(Z2)\n",
    "    \n",
    "    cache = {}\n",
    "    \n",
    "    # Values in cache dictionary will be used for back propagation\n",
    "    cache[\"Z1\"] = Z1\n",
    "    cache[\"A\"] = A\n",
    "    cache[\"Z2\"] = Z2\n",
    "    cache[\"AL\"] = AL\n",
    "    \n",
    "    return AL, cache"
   ]
  },
  {
   "cell_type": "code",
   "execution_count": 11,
   "metadata": {},
   "outputs": [],
   "source": [
    "def compute_cost(AL, Y):\n",
    "    \"\"\"\n",
    "    Implement the cost function defined by equation (7).\n",
    "\n",
    "    Arguments:\n",
    "    AL -- probability vector corresponding to your label predictions, shape (1, number of examples)\n",
    "    Y -- true \"label\" vector (for example: containing 0 if non-cat, 1 if cat), shape (1, number of examples)\n",
    "\n",
    "    Returns:\n",
    "    cost -- cost\n",
    "    \"\"\"\n",
    "    \n",
    "    # Number of examples\n",
    "    m = Y.shape[1]\n",
    "    \n",
    "    # Calculate the cost equation\n",
    "    result = np.multiply(Y, np.log(AL)) + np.multiply((1-Y), np.log(1-AL))\n",
    "    cost = (-1/m) * np.sum(result)\n",
    "    \n",
    "    # Remove unnecessary dimensions\n",
    "    cost = np.squeeze(cost)\n",
    "    \n",
    "    return cost"
   ]
  },
  {
   "cell_type": "code",
   "execution_count": 12,
   "metadata": {},
   "outputs": [],
   "source": [
    "def linear_activation_backward(X, Y, cost, cache, parameters):\n",
    "    \"\"\"\n",
    "    Implement the backward propagation\n",
    "    \n",
    "    Arguments:\n",
    "    X -- input data\n",
    "    Y -- desired output\n",
    "    cost -- cost\n",
    "    cache -- data coming from forward propagation\n",
    "    \n",
    "    Returns:\n",
    "    grads --  A dictionary with the gradients\n",
    "             grads[\"dW1\"]\n",
    "             grads[\"db1\"]\n",
    "             grads[\"dW2\"]\n",
    "             grads[\"db2\"]\n",
    "    \"\"\"\n",
    "    \n",
    "    # Number of examples\n",
    "    m = X.shape[1]\n",
    "    \n",
    "    # Get W2, A, AL, Z1 from parameters and cache dictionaries\n",
    "    W2 = parameters[\"W2\"]\n",
    "    A = cache[\"A\"]\n",
    "    AL = cache[\"AL\"]\n",
    "    Z1 = cache[\"Z1\"]\n",
    "    \n",
    "    grads = {}\n",
    "    \n",
    "    # Calculate dZ2, dW2, db2, dZ1, dW1, db1 using the formulas for back propagation\n",
    "    dZ2 = AL - Y\n",
    "    grads[\"dW2\"] = (1/m) * np.dot(dZ2, A.T)\n",
    "    grads[\"db2\"] = (1/m) * np.sum(dZ2, axis = 1, keepdims = True)\n",
    "    dZ1 = np.dot(W2.T, dZ2) * relu_derivative(Z1)\n",
    "    grads[\"dW1\"] = (1/m) * np.dot(dZ1, X.T)\n",
    "    grads[\"db1\"] = (1/m) * np.sum(dZ1, axis = 1, keepdims = True)\n",
    "    \n",
    "    return grads"
   ]
  },
  {
   "cell_type": "code",
   "execution_count": 13,
   "metadata": {},
   "outputs": [],
   "source": [
    "def update_parameters(parameters, grads, learning_rate):\n",
    "    \"\"\"\n",
    "    Update parameters using gradient descent\n",
    "    \n",
    "    Arguments:\n",
    "    parameters -- python dictionary containing your parameters \n",
    "    grads -- python dictionary containing your gradients, output of L_model_backward\n",
    "    \n",
    "    Returns:\n",
    "    parameters -- python dictionary containing your updated parameters \n",
    "             parameters[\"W1\"]\n",
    "             parameters[\"b1\"]\n",
    "             parameters[\"W2\"]\n",
    "             parameters[\"b2\"]\n",
    "    \"\"\"\n",
    "    \n",
    "    # Update the parameters depending on the learning rate\n",
    "    parameters[\"W1\"] = parameters[\"W1\"] - learning_rate * grads[\"dW1\"]\n",
    "    parameters[\"b1\"] = parameters[\"b1\"] - learning_rate * grads[\"db1\"]\n",
    "    parameters[\"W2\"] = parameters[\"W2\"] - learning_rate * grads[\"dW2\"]\n",
    "    parameters[\"b2\"] = parameters[\"b2\"] - learning_rate * grads[\"db2\"]\n",
    "\n",
    "    return parameters"
   ]
  },
  {
   "cell_type": "code",
   "execution_count": 14,
   "metadata": {},
   "outputs": [],
   "source": [
    "def predict(test_x, test_y, parameters):\n",
    "    \"\"\"\n",
    "    Predict test data\n",
    "    test_x -- test data\n",
    "    test_y -- true \"label\" vector (for example: containing 0 if non-cat, 1 if cat), shape (1, number of examples)\n",
    "    \n",
    "    Returns:\n",
    "    accuracy -- accuracy of your model\n",
    "    \n",
    "    \"\"\"\n",
    "    \n",
    "    # Make a template consisting of zeros for accuracy matrix (shape = (1, m))\n",
    "    m = test_x.shape[1]\n",
    "    accuracy = np.zeros((1, m))\n",
    "    \n",
    "    # Return the values from forward propagation\n",
    "    AL, cache = linear_activation_forward(test_x, parameters)\n",
    "    \n",
    "    # Iterate through outputs and change the value from 0 to 1 if the output value is higher than 0.5\n",
    "    for i in range(AL.shape[1]):\n",
    "        if AL[0, i] > 0.5:\n",
    "            accuracy[0, i] = 1\n",
    "        else:\n",
    "            accuracy[0, i] = 0\n",
    "    \n",
    "    # Compare accuracy matrix and test_y matrix then print the accuracy percentage\n",
    "    print(\"Accuracy: \" + str(np.sum((accuracy == test_y)/m) * 100) + \"%\")\n",
    "    \n",
    "    return accuracy"
   ]
  },
  {
   "cell_type": "code",
   "execution_count": 15,
   "metadata": {},
   "outputs": [],
   "source": [
    "def plot_loss(costs):\n",
    "    \"\"\"\n",
    "    Plot loss\n",
    "    costs - cost of each iteration\n",
    "    \n",
    "    \"\"\" \n",
    "    \n",
    "    # Plot the cost of each iteration graph\n",
    "    plt.plot(np.squeeze(costs))\n",
    "    plt.ylabel(\"Cost\")\n",
    "    plt.xlabel(\"Iteration\")\n",
    "    plt.title(\"Learning Rate = 0.0075\")\n",
    "    plt.show()"
   ]
  },
  {
   "cell_type": "code",
   "execution_count": 16,
   "metadata": {},
   "outputs": [],
   "source": [
    "def two_layer_model(X, Y, layers_dims, learning_rate = 0.0075, num_iterations = 3000):\n",
    "    global costs, parameters\n",
    "    \"\"\"\n",
    "    Implements a two-layer neural network: LINEAR->RELU->LINEAR->SIGMOID.\n",
    "    \n",
    "    Arguments:\n",
    "    X -- input data, of shape (n_x, number of examples)\n",
    "    Y -- true \"label\" vector (containing 1 if cat, 0 if non-cat), of shape (1, number of examples)\n",
    "    layers_dims -- dimensions of the layers (n_x, n_h, n_y)\n",
    "    num_iterations -- number of iterations of the optimization loop\n",
    "    learning_rate -- learning rate of the gradient descent update rule\n",
    "    print_cost -- If set to True, this will print the cost every 100 iterations \n",
    "    \n",
    "    Returns:\n",
    "    parameters -- a dictionary containing W1, W2, b1, and b2\n",
    "    \"\"\"\n",
    "    \n",
    "    np.random.seed(1)\n",
    "    grads = {}\n",
    "    costs = []                              # to keep track of the cost\n",
    "    m = X.shape[1]                           # number of examples\n",
    "    (n_x, n_h, n_y) = layers_dims\n",
    "    \n",
    "    # Initialize parameters dictionary, by calling one of the functions you'd previously implemented\n",
    "    ### START CODE HERE ### (≈ 1 line of code)\n",
    "    parameters = initialize_parameters_deep(layers_dims)\n",
    "    ### END CODE HERE ###\n",
    "    \n",
    "    # Get W1, b1, W2 and b2 from the dictionary parameters.\n",
    "    W1 = parameters[\"W1\"]\n",
    "    b1 = parameters[\"b1\"]\n",
    "    W2 = parameters[\"W2\"]\n",
    "    b2 = parameters[\"b2\"]\n",
    "    \n",
    "    # Loop (gradient descent)\n",
    "\n",
    "    for i in range(0, num_iterations):\n",
    "\n",
    "        # Forward propagation: LINEAR -> RELU -> LINEAR -> SIGMOID. Inputs: \"X, W1, b1, W2, b2\". Output: \"A1, cache1, A2, cache2\".\n",
    "        ### START CODE HERE ### \n",
    "        AL, cache = linear_activation_forward(X, parameters)\n",
    "        ### END CODE HERE ###\n",
    "        \n",
    "        # Compute cost\n",
    "        ### START CODE HERE ### \n",
    "        cost = compute_cost(AL, Y)\n",
    "        ### END CODE HERE ###\n",
    "        \n",
    "        \n",
    "        # Backward propagation.\n",
    "        ### START CODE HERE ### \n",
    "        grads = linear_activation_backward(X, Y, cost, cache, parameters)\n",
    "        ### END CODE HERE ###\n",
    "\n",
    "        \n",
    "        # Update parameters.\n",
    "        ### START CODE HERE ### \n",
    "        parameters = update_parameters(parameters, grads, learning_rate)\n",
    "        ### END CODE HERE ###\n",
    "        \n",
    "        # Print the cost every 100 training example\n",
    "        if i % 100 == 0:\n",
    "            print(\"Cost after iteration {}: {}\".format(i, np.squeeze(cost)))\n",
    "        if i % 100 == 0:\n",
    "            costs.append(cost)\n",
    "\n",
    "    return parameters, costs"
   ]
  },
  {
   "cell_type": "code",
   "execution_count": 17,
   "metadata": {},
   "outputs": [],
   "source": [
    "def main():\n",
    "    \"\"\"Main function\n",
    "    You need to combine all functions in the main function\"\"\"\n",
    "    \n",
    "    two_layer_model(train_x, train_y, layers_dims, learning_rate = 0.0075, num_iterations = 3000)\n",
    "    plot_loss(costs)\n",
    "    predict(test_x, test_y, parameters)"
   ]
  },
  {
   "cell_type": "code",
   "execution_count": 18,
   "metadata": {},
   "outputs": [
    {
     "name": "stdout",
     "output_type": "stream",
     "text": [
      "Cost after iteration 0: 0.6948558869316627\n",
      "Cost after iteration 100: 0.6475543118707168\n",
      "Cost after iteration 200: 0.6354635432195989\n",
      "Cost after iteration 300: 0.6084781510864906\n",
      "Cost after iteration 400: 0.5687536547908733\n",
      "Cost after iteration 500: 0.5241385998103425\n",
      "Cost after iteration 600: 0.4813053518578692\n",
      "Cost after iteration 700: 0.43564949116183266\n",
      "Cost after iteration 800: 0.3850252245643457\n",
      "Cost after iteration 900: 0.4072494380411149\n",
      "Cost after iteration 1000: 0.35701586921864686\n",
      "Cost after iteration 1100: 0.306582099478468\n",
      "Cost after iteration 1200: 0.2667571146990341\n",
      "Cost after iteration 1300: 0.21728118634679472\n",
      "Cost after iteration 1400: 0.2555681008661476\n",
      "Cost after iteration 1500: 0.17685283394234969\n",
      "Cost after iteration 1600: 0.1422886870002417\n",
      "Cost after iteration 1700: 0.10398219194097097\n",
      "Cost after iteration 1800: 0.09108319991279412\n",
      "Cost after iteration 1900: 0.07442366757242078\n",
      "Cost after iteration 2000: 0.06411714230540526\n",
      "Cost after iteration 2100: 0.05603839842273556\n",
      "Cost after iteration 2200: 0.04892752105629719\n",
      "Cost after iteration 2300: 0.043537608055929496\n",
      "Cost after iteration 2400: 0.03884886999083341\n",
      "Cost after iteration 2500: 0.03489693749373602\n",
      "Cost after iteration 2600: 0.031608780625449834\n",
      "Cost after iteration 2700: 0.02874727104655906\n",
      "Cost after iteration 2800: 0.026282930175786357\n",
      "Cost after iteration 2900: 0.024133487721553014\n"
     ]
    },
    {
     "data": {
      "image/png": "[encoded data removed]",
      "text/plain": [
       "<Figure size 360x288 with 1 Axes>"
      ]
     },
     "metadata": {
      "needs_background": "light"
     },
     "output_type": "display_data"
    },
    {
     "name": "stdout",
     "output_type": "stream",
     "text": [
      "Accuracy: 72.0%\n"
     ]
    }
   ],
   "source": [
    "main()"
   ]
  },
  {
   "cell_type": "code",
   "execution_count": null,
   "metadata": {},
   "outputs": [],
   "source": []
  }
 ],
 "metadata": {
  "kernelspec": {
   "display_name": "Python 3 (ipykernel)",
   "language": "python",
   "name": "python3"
  },
  "language_info": {
   "codemirror_mode": {
    "name": "ipython",
    "version": 3
   },
   "file_extension": ".py",
   "mimetype": "text/x-python",
   "name": "python",
   "nbconvert_exporter": "python",
   "pygments_lexer": "ipython3",
   "version": "3.9.7"
  }
 },
 "nbformat": 4,
 "nbformat_minor": 2
}
